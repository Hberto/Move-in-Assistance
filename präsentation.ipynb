{
 "cells": [
  {
   "cell_type": "markdown",
   "source": [
    "## Datensätze und Integration"
   ],
   "metadata": {
    "collapsed": false
   }
  },
  {
   "cell_type": "markdown",
   "source": [
    "### Recommender / Kosinus Ähnlichkeit\n"
   ],
   "metadata": {
    "collapsed": false
   }
  },
  {
   "cell_type": "markdown",
   "source": [
    "Cosine similarity is a metric used to measure the similarity between two vectors in a multi-dimensional space. It is commonly used in machine learning and information retrieval to determine how similar two pieces of text or sets of features are. Cosine similarity is particularly useful when the magnitude of the vectors is not important, and you are interested in the direction or orientation of the vectors.\n",
    "\n",
    "For two vectors A and B, the cosine similarity (cos θ) is calculated as the cosine of the angle between them. It's defined as:\n",
    "\n",
    "[ \\text{cosine similarity}(\\mathbf{A}, \\mathbf{B}) = \\frac{\\mathbf{A} \\cdot \\mathbf{B}}{|\\mathbf{A}| |\\mathbf{B}|} ]\n",
    "\n",
    "Where:\n",
    "\n",
    "(\\mathbf{A} \\cdot \\mathbf{B}) is the dot product of vectors (\\mathbf{A}) and (\\mathbf{B}),\n",
    "(|\\mathbf{A}|) is the Euclidean norm (magnitude) of vector (\\mathbf{A}),\n",
    "(|\\mathbf{B}|) is the Euclidean norm (magnitude) of vector (\\mathbf{B}).\n",
    "The cosine similarity ranges from -1 to 1, where:\n",
    "\n",
    "1 indicates that the vectors are identical (point in the same direction),\n",
    "0 indicates orthogonality (the vectors are perpendicular),\n",
    "-1 indicates that the vectors point in opposite directions.\n",
    "In the context of your recommender system, cosine similarity is used to find districts with feature values that are directionally similar to the user's input, indicating similarity in the feature space.\n",
    "\n",
    "Detailliertere Erläuterung für unser Beispiel auf deutsch\n",
    "Cosine Similarity, oder Kosinus-Ähnlichkeit, ist eine Metrik, die in der Informatik und im maschinellen Lernen verwendet wird, um die Ähnlichkeit zwischen zwei Vektoren in einem mehrdimensionalen Raum zu messen. In Ihrem Anwendungsfall, der Empfehlung von Stadtteilen basierend auf bestimmten Merkmalen, kann dies hilfreich sein, um Stadtteile zu finden, die den Eingabekriterien des Benutzers am ähnlichsten sind.\n",
    "\n",
    "Hier ist eine detaillierte Erklärung:\n",
    "\n",
    "Repräsentation der Daten:\n",
    "\n",
    "Ihre Daten werden als Vektoren dargestellt, wobei jedes Merkmal eines Stadtteils einen Wert im Vektor darstellt. Zum Beispiel könnte ein Vektor für einen Stadtteil so aussehen: (\\mathbf{V} = [Mietpreis, Gruenfläche, AQI, ...]).\n",
    "Benutzereingabe:\n",
    "\n",
    "Der Benutzer gibt bestimmte Werte für Merkmale ein, die für ihn wichtig sind. Angenommen, der Benutzer gibt Werte für Mietpreis, Grünfläche und Luftqualität (AQI) ein.\n",
    "Berechnung der Kosinus-Ähnlichkeit:\n",
    "\n",
    "Die Kosinus-Ähnlichkeit wird verwendet, um die Ähnlichkeit zwischen dem vom Benutzer eingegebenen Vektor und den Vektoren aller Stadtteile in Ihrem Datensatz zu berechnen. Je näher der Kosinus der Ähnlichkeit bei 1 liegt, desto ähnlicher sind die Vektoren.\n",
    "Auswahl der ähnlichsten Stadtteile:\n",
    "\n",
    "Die Stadtteile mit den höchsten Kosinus-Ähnlichkeitswerten werden als diejenigen ausgewählt, die den Eingabekriterien des Benutzers am besten entsprechen. Diese Stadtteile haben ähnliche Merkmalswerte wie der vom Benutzer angegebene Vektor.\n",
    "Warum ist das nützlich?\n",
    "\n",
    "Personalisierte Empfehlungen: Cosine Similarity ermöglicht es, Stadtteile zu finden, die den persönlichen Vorlieben des Benutzers nahekommen. Wenn ein Benutzer beispielsweise angibt, dass er niedrige Mietpreise, viel Grünfläche und gute Luftqualität bevorzugt, werden ihm Stadtteile empfohlen, die diesen Kriterien ähneln.\n",
    "\n",
    "Flexibilität bei der Eingabe: Die Kosinus-Ähnlichkeit erlaubt es Benutzern, nur für diejenigen Merkmale Werte anzugeben, die ihnen wichtig sind, ohne dass Werte für alle Merkmale erforderlich sind. Dies erhöht die Benutzerfreundlichkeit.\n",
    "\n",
    "Berücksichtigung aller Merkmale: Selbst wenn der Benutzer nur Werte für einige Merkmale angibt, berücksichtigt die Kosinus-Ähnlichkeit implizit alle verfügbaren Merkmale, um ähnliche Stadtteile zu finden.\n",
    "\n",
    "Insgesamt ermöglicht die Anwendung von Cosine Similarity eine effektive und flexible Empfehlung von Stadtteilen, die den Präferenzen der Benutzer entsprechen."
   ],
   "metadata": {
    "collapsed": false
   }
  },
  {
   "cell_type": "code",
   "execution_count": null,
   "outputs": [],
   "source": [
    "import pandas as pd\n",
    "from sklearn.metrics.pairwise import cosine_similarity\n",
    "\n",
    "# Load your data\n",
    "data = pd.read_csv('files/out/merged_featureset_nonan.csv')\n",
    "\n",
    "# User input (replace with actual user input)\n",
    "user_input = {'Mietpreis pro qm': 15, 'Gruenflaeche': 2, 'AQI': 2.4}\n",
    "\n",
    "# Extract features with user input\n",
    "user_input_features = list(user_input.keys())\n",
    "\n",
    "# Extract user input values and normalize (optional)\n",
    "user_input_values = [user_input[feature] for feature in user_input_features]\n",
    "user_input_array = [user_input_values]\n",
    "\n",
    "# Extract data for the selected features and normalize (optional)\n",
    "selected_data = data[user_input_features].values\n",
    "\n",
    "# Calculate cosine similarity between user input and district data\n",
    "similarity_scores = cosine_similarity(user_input_array, selected_data)\n",
    "\n",
    "# Get the top 3 districts with the highest similarity scores\n",
    "top_districts_indices = similarity_scores.argsort()[0][-3:][::-1]\n",
    "top_districts = data.loc[top_districts_indices, 'Stadtteil']\n",
    "\n",
    "print(f'Top 3 recommended districts: {list(top_districts)}')"
   ],
   "metadata": {
    "collapsed": false
   }
  }
 ],
 "metadata": {
  "kernelspec": {
   "display_name": "Python 3",
   "language": "python",
   "name": "python3"
  },
  "language_info": {
   "codemirror_mode": {
    "name": "ipython",
    "version": 2
   },
   "file_extension": ".py",
   "mimetype": "text/x-python",
   "name": "python",
   "nbconvert_exporter": "python",
   "pygments_lexer": "ipython2",
   "version": "2.7.6"
  }
 },
 "nbformat": 4,
 "nbformat_minor": 0
}
