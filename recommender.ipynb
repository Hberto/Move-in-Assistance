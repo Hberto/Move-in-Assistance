{
 "cells": [
  {
   "cell_type": "code",
   "execution_count": 8,
   "metadata": {
    "collapsed": true,
    "ExecuteTime": {
     "start_time": "2024-01-12T14:11:01.281299Z",
     "end_time": "2024-01-12T14:11:01.387221Z"
    }
   },
   "outputs": [
    {
     "name": "stdout",
     "output_type": "stream",
     "text": [
      "Top 3 recommended districts: ['Hamburg-Altstadt', 'Moorburg', 'Hoheluft-Ost']\n"
     ]
    }
   ],
   "source": [
    "import pandas as pd\n",
    "from sklearn.metrics.pairwise import cosine_similarity\n",
    "\n",
    "# Load your data\n",
    "data = pd.read_csv('files/out/merged_featureset_nonan.csv')\n",
    "\n",
    "# User input (replace with actual user input)\n",
    "user_input = {'Mietpreis pro qm': 15, 'Gruenflaeche': 2, 'AQI': 2.4}\n",
    "\n",
    "# Extract features with user input\n",
    "user_input_features = list(user_input.keys())\n",
    "\n",
    "# Extract user input values and normalize (optional)\n",
    "user_input_values = [user_input[feature] for feature in user_input_features]\n",
    "user_input_array = [user_input_values]\n",
    "\n",
    "# Extract data for the selected features and normalize (optional)\n",
    "selected_data = data[user_input_features].values\n",
    "\n",
    "# Calculate cosine similarity between user input and district data\n",
    "similarity_scores = cosine_similarity(user_input_array, selected_data)\n",
    "\n",
    "# Get the top 3 districts with the highest similarity scores\n",
    "top_districts_indices = similarity_scores.argsort()[0][-3:][::-1]\n",
    "top_districts = data.loc[top_districts_indices, 'Stadtteil']\n",
    "\n",
    "print(f'Top 3 recommended districts: {list(top_districts)}')"
   ]
  },
  {
   "cell_type": "code",
   "execution_count": 7,
   "outputs": [],
   "source": [],
   "metadata": {
    "collapsed": false,
    "ExecuteTime": {
     "start_time": "2024-01-12T14:10:49.173741Z",
     "end_time": "2024-01-12T14:10:49.197112Z"
    }
   }
  },
  {
   "cell_type": "code",
   "execution_count": 7,
   "outputs": [],
   "source": [],
   "metadata": {
    "collapsed": false,
    "ExecuteTime": {
     "start_time": "2024-01-12T14:10:49.186694Z",
     "end_time": "2024-01-12T14:10:49.198154Z"
    }
   }
  }
 ],
 "metadata": {
  "kernelspec": {
   "display_name": "Python 3",
   "language": "python",
   "name": "python3"
  },
  "language_info": {
   "codemirror_mode": {
    "name": "ipython",
    "version": 2
   },
   "file_extension": ".py",
   "mimetype": "text/x-python",
   "name": "python",
   "nbconvert_exporter": "python",
   "pygments_lexer": "ipython2",
   "version": "2.7.6"
  }
 },
 "nbformat": 4,
 "nbformat_minor": 0
}
