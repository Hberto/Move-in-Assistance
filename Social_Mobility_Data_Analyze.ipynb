{
  "nbformat": 4,
  "nbformat_minor": 0,
  "metadata": {
    "colab": {
      "provenance": [],
      "authorship_tag": "ABX9TyMD34sNh/JFhSn9JAeDL5om",
      "include_colab_link": true
    },
    "kernelspec": {
      "name": "python3",
      "display_name": "Python 3"
    },
    "language_info": {
      "name": "python"
    }
  },
  "cells": [
    {
      "cell_type": "markdown",
      "metadata": {
        "id": "view-in-github",
        "colab_type": "text"
      },
      "source": [
        "<a href=\"https://colab.research.google.com/github/Hberto/Move-in-Assistance/blob/feat%2Fload_data_social_mobility/DA_Praktikum.ipynb\" target=\"_parent\"><img src=\"https://colab.research.google.com/assets/colab-badge.svg\" alt=\"Open In Colab\"/></a>"
      ]
    },
    {
      "cell_type": "markdown",
      "source": [
        "# Data Analytics: Praktikum\n",
        "\n",
        "## Steps\n",
        "\n",
        "1. Datenfindung\n",
        "2. Daten exploration\n",
        "   1. Thesen und Fragestellungen aufstellen\n",
        "   2. Fokus bestimmen\n",
        "3. Datenvorverarbeitung\n",
        "   1. Bereinigung\n",
        "   2. Interpolation\n",
        "4. Anwendung von mathematischen Modellen etc.\n",
        "5. Datenvisualisierung\n",
        "6. Präsentation"
      ],
      "metadata": {
        "id": "UbB6gVp1xAnx"
      }
    },
    {
      "cell_type": "markdown",
      "source": [
        "# Sektion: Datenexploration\n",
        "\n",
        "## Infrastrukturdaten und soziale Daten\n",
        "\n",
        "### Infra: Mobilität\n",
        "- Rad\n",
        "  - Parkplätze\n",
        "    - Unterscheidung?\n",
        "  - Ausleih (-stationen,-räder)\n",
        "  - Radwege\n",
        "  - Luftstationen\n",
        "- Auto\n",
        "  - Parkplätze\n",
        "  - Share-Service\n",
        "  - Elektro\n",
        "    - Ladestationen\n",
        "- Bus\n",
        "- Zug\n",
        "\n",
        "### Infra: Wohnen\n",
        "- Wohnen\n",
        "  - privat\n",
        "  - sozial\n",
        "  - Preise\n",
        "  - Fläche\n",
        "\n",
        "### Infra: Gesundheit\n",
        "\n",
        "- Arzt-Dichte\n",
        "- Apotheken\n",
        "- Bewegungsmöglichkeiten\n",
        "  - Sportplätze\n",
        "  - Spielplätze\n",
        "\n",
        "### Infra: Bildung\n",
        "- Schule\n",
        "  - Stadtteil\n",
        "  - Gym\n",
        "- Kindergärten\n",
        "\n",
        "## Soziale Daten\n",
        "\n",
        "### Bevölkerungsbewegungen\n",
        "\n",
        "- Fort- und Zuzüge\n",
        "\n",
        "### Arbeitslosigkeit\n",
        "\n",
        "### Kriminalitätsrate\n",
        "\n",
        "### Geburten und Sterbefälle\n",
        "#######################################################\n",
        "\n",
        "## Korrelationen und Datenzusammenhänge (für Studenten)\n",
        "### 1. Verkehrinfrastruktur und Bevölkerungsdichte\n",
        "- Tabelle: Soziale Daten\n",
        "   - Bevölkerungszahlen\n",
        "   - Bevölkerungsdichte?\n",
        "- Tabelle: Infrastruktur\n",
        "  - Radverkehrsnetz Hamburg (2021)\n",
        "    - wie viele gibt es an sicheren Radwegen in welchen Stadtteilen?\n",
        "    - Beschreibung: Der Datensatz enthält die Radverkehrsanlagen der Freien und Hansestadt Hamburg. Da es sich um einen routingfähigen Datensatz handelt, werden nicht nur klassische Radverkehrsanlagen (Radweg, Radfahrstreifen, Schutzstreifen etc.) erfasst, sondern auch Straßen und Wege, die von Radfahrenden nutzbar sind. Weiterhin werden auch Fußwege erfasst, wenn sie als sogenannte Schiebestrecken Lücken im Radverkehrsnetz füllen. Folgende Attribute werden bereitgestellt:\n",
        "\n",
        "    - Status (Betrieb, Temporäre Anlage, …)\n",
        "    - Straßenname\n",
        "    - Art (Getrennter Geh-/Radweg, Gemeinsamer Geh-/Radweg, Radfahrstreifen, Schutzstreifen, Straße mit Mischverkehr bis 30 km/h, Fußgängerzone…)\n",
        "    - Klasse (Radweg, Radfahrstreifen, Schutzstreifen, Fahrradstraße, Wege in Grünanlagen, Straße mit Mischverkehr, Schiebestrecke, Sonstige)\n",
        "    - Zeitliche Beschränkung\n",
        "    - Benutzungspflicht\n",
        "    - Fahrtrichtung (in Geometrie-Richtung, in beide Richtungen)\n",
        "    - Oberfläche (bituminöse Decke, wassergebundene Decke, Kunststein, Naturstein, …)\n",
        "    - Breite in m\n",
        "    - Hindernis (Durchfahrbarkeit gegeben, Umfahrung möglich, …)\n",
        "    - Niveau (bodengleich, Tunnel, …)\n",
        "\n",
        "Die Visualisierung im WMS und somit auch im Geoportal erfolgt anhand des Attributs Klasse. Um die Übersichtlichkeit zu erhöhen, werden die Daten in sieben verschiedene Layer unterteilt, die sich an den Klassen orientieren.\n",
        "Langfristig, z.B. wegen Baumaßnahmen, gesperrte Wege werden nicht im Datensatz veröffentlicht.\n",
        "  - Velorouten (2021)\n",
        "    - Beschreibung: Der Datensatz enthält das Netz der 14 Velorouten für den Alltagsradverkehr (ca. 280 km) in Hamburg. Die Velorouten verbinden die City mit wichtigen Alltagszielen wie den Wohngebieten der inneren und äußeren Stadt, Stadtteilzentren und Arbeitsplatzschwerpunkten.\n",
        "  - Bike + Ride Anlagen (2017)\n",
        "    - Beschreibung: Der Datensatz enthält die Lage der Fahrradabstellanlagen an Schnellbahnhaltestellen im Hamburger Stadtgebiet. Für jede Abstellanlage wird die Anzahl der öffentlichen Stellplätze (überdacht und nicht überdacht) und, wenn vorhanden, die Anzahl der abschließbaren Mietplätze angegeben.\n",
        "  - Fahrradhäuschen (2023)\n",
        "    - Beschreibung: Der Datensatz enthält eine Übersicht über alle sogenannten Fahrradhäuschen in Hamburg. Grundlage des Datensatzes sind von den jeweiligen Bezirken bereitgestellte Adressdaten, die nachträglich geocodiert wurden. Deswegen kann es zu Abweichungen zu dem tatsächlichen Standort kommen. Der Standort ist zusätzlich in den Attributen beschrieben.Über 400 Fahrradhäuschen ermöglichen das gesicherte Abstellen privater Fahrräder im öffentlichen Raum in Stadtteilen mit Blockrandbebauung, in denen es auf den Grundstücken bzw. in den Häusern keine Möglichkeiten zum Fahrradparken gibt. Die Fahrradhäuschen werden privat angeschafft und finanziert und werden per Sondernutzungserlaubnis vom zuständigen Bezirksamt genehmigt. 12 Nutzende teilen sich jeweils ein Haus, wobei es je Haus einen Hauptansprechpartner („Verwalter“) gibt. Ob ein Platz in einem Haus frei ist, erfahren Interessierte vom Verwalter; hierfür ist die Weitergabe von Kontaktdaten der Interessierten an das jeweils zuständige Bezirksamt notwendig.\n",
        "  - Fahrradluftstationen (2018)\n",
        "    - Beschreibung: Der Datensatz enthält die Standorte öffentlicher Luftpumpen für Fahrräder in Hamburg. An Standorten, die an öffentliche Toilettenanlagen angegliedert sind, gibt es zusätzlich auch Lademöglichkeiten für Pedelecs bzw. E-Bikes.\n",
        "  - Zulässige Geschwindigkeiten (2022)\n",
        "    - Beschreibung: Der Datensatz enthält die zulässigen Höchstgeschwindigkeiten für das Hamburger Straßennetz sowie zusätzliche Informationen zu Tempo-20- und Tempo-30-Zonen, verkehrsberuhigten Bereichen und Sonderregelungen, wie zeitliche Beschränkungen (Tempo 30 nachts aus Lärmschutzgründen, Tempo 30 tagsüber vor sensiblen Einrichtungen) oder Beschränkungen für bestimmte Fahrzeuge. Diese Zusatzinformationen sind zum einen in ergänzenden Layern und zum anderen in den Attributen des Layers Zulässige Höchstgeschwindigkeiten enthalten. Außerdem sind in den Attributen weitere Grundinformationen zu den einzelnen Straßenabschnitten enthalten. Für die Visualisierung in den Portalen / im WMS wurden teilweise mehrere Geschwindigkeiten zu einer Klasse zusammengeführt, um die Übersichtlichkeit und Erkennbarkeit zu verbessern. Dies betrifft vor allem niedrige Geschwindigkeiten unter 30km/h und hohe Geschwindigkeiten über 80km/h (auf Autobahnen). Die Visualisierung wurde so gewählt, dass alle Layer zusammen verwendet werden können. Bei Strecken mit zeitlichen Sonderregelungen wird im Layer zulässige Höchstgeschwindigkeit die Geschwindigkeit dargestellt, die zur Hauptverkehrszeit gefahren werden darf. Die abweichende Geschwindigkeit ist in den Attributen vermerkt.\n",
        " - Einzugsbereiche (2021) Bus und Bahn\n",
        "  - Beschreibung: Der Datensatz enthält die Einzugsbereiche von Haltestellen des Hamburger Verkehrsverbunds (HVV) im Hamburger Stadtgebiet. Der Einzugsbereich (Realfußwegdistanz) von Fernverkehr, Regionalbahn (RE/RB/AKN), S-Bahn und U-Bahn beträgt 720 m um die Haltestellen, der Einzugsbereich von Bushaltestellen beträgt 480 m um die Haltestellen. Für die zugehörigen Haltestellen ist der Haltestelleneingang bzw. der Bahnsteigzugang maßgeblich. Bei großen Haltestellen gibt es entsprechend z.T. mehrere Haltestellenbereiche je Haltestelle. Der Datensatz enthält zudem verschiedene Attribute, wie z.B. den zugehörigen Haltestellennamen, die HaltestellenID, die Art des Transportmittels, die jeweiligen anfahrenden Liniennummern, die Anzahl der anfahrenden Linien (nur bei den Haltestellen), die Anzahl der Anfahrten pro Tag (nur bei den Haltestellen) und die Anzahl der erschlossenen Einwohner (nur bei den Einzugsbereichen).\n",
        "\n",
        "  ### 2. Wohninfrastruktur und Lebensqualität\n",
        "\n",
        "\n"
      ],
      "metadata": {
        "id": "CrhxZuotxEeW"
      }
    },
    {
      "cell_type": "code",
      "source": [
        "from google.colab import drive\n",
        "drive.mount('/content/drive')"
      ],
      "metadata": {
        "colab": {
          "base_uri": "https://localhost:8080/",
          "height": 346
        },
        "id": "iAv_Pwzgy-q-",
        "outputId": "e334f9b0-4b9c-44cb-93ae-f140f0676cef"
      },
      "execution_count": null,
      "outputs": [
        {
          "output_type": "error",
          "ename": "KeyboardInterrupt",
          "evalue": "ignored",
          "traceback": [
            "\u001b[0;31m---------------------------------------------------------------------------\u001b[0m",
            "\u001b[0;31mKeyboardInterrupt\u001b[0m                         Traceback (most recent call last)",
            "\u001b[0;32m<ipython-input-10-d5df0069828e>\u001b[0m in \u001b[0;36m<cell line: 2>\u001b[0;34m()\u001b[0m\n\u001b[1;32m      1\u001b[0m \u001b[0;32mfrom\u001b[0m \u001b[0mgoogle\u001b[0m\u001b[0;34m.\u001b[0m\u001b[0mcolab\u001b[0m \u001b[0;32mimport\u001b[0m \u001b[0mdrive\u001b[0m\u001b[0;34m\u001b[0m\u001b[0;34m\u001b[0m\u001b[0m\n\u001b[0;32m----> 2\u001b[0;31m \u001b[0mdrive\u001b[0m\u001b[0;34m.\u001b[0m\u001b[0mmount\u001b[0m\u001b[0;34m(\u001b[0m\u001b[0;34m'/content/drive'\u001b[0m\u001b[0;34m)\u001b[0m\u001b[0;34m\u001b[0m\u001b[0;34m\u001b[0m\u001b[0m\n\u001b[0m",
            "\u001b[0;32m/usr/local/lib/python3.10/dist-packages/google/colab/drive.py\u001b[0m in \u001b[0;36mmount\u001b[0;34m(mountpoint, force_remount, timeout_ms, readonly)\u001b[0m\n\u001b[1;32m    101\u001b[0m \u001b[0;32mdef\u001b[0m \u001b[0mmount\u001b[0m\u001b[0;34m(\u001b[0m\u001b[0mmountpoint\u001b[0m\u001b[0;34m,\u001b[0m \u001b[0mforce_remount\u001b[0m\u001b[0;34m=\u001b[0m\u001b[0;32mFalse\u001b[0m\u001b[0;34m,\u001b[0m \u001b[0mtimeout_ms\u001b[0m\u001b[0;34m=\u001b[0m\u001b[0;36m120000\u001b[0m\u001b[0;34m,\u001b[0m \u001b[0mreadonly\u001b[0m\u001b[0;34m=\u001b[0m\u001b[0;32mFalse\u001b[0m\u001b[0;34m)\u001b[0m\u001b[0;34m:\u001b[0m\u001b[0;34m\u001b[0m\u001b[0;34m\u001b[0m\u001b[0m\n\u001b[1;32m    102\u001b[0m   \u001b[0;34m\"\"\"Mount your Google Drive at the specified mountpoint path.\"\"\"\u001b[0m\u001b[0;34m\u001b[0m\u001b[0;34m\u001b[0m\u001b[0m\n\u001b[0;32m--> 103\u001b[0;31m   return _mount(\n\u001b[0m\u001b[1;32m    104\u001b[0m       \u001b[0mmountpoint\u001b[0m\u001b[0;34m,\u001b[0m\u001b[0;34m\u001b[0m\u001b[0;34m\u001b[0m\u001b[0m\n\u001b[1;32m    105\u001b[0m       \u001b[0mforce_remount\u001b[0m\u001b[0;34m=\u001b[0m\u001b[0mforce_remount\u001b[0m\u001b[0;34m,\u001b[0m\u001b[0;34m\u001b[0m\u001b[0;34m\u001b[0m\u001b[0m\n",
            "\u001b[0;32m/usr/local/lib/python3.10/dist-packages/google/colab/drive.py\u001b[0m in \u001b[0;36m_mount\u001b[0;34m(mountpoint, force_remount, timeout_ms, ephemeral, readonly)\u001b[0m\n\u001b[1;32m    130\u001b[0m   )\n\u001b[1;32m    131\u001b[0m   \u001b[0;32mif\u001b[0m \u001b[0mephemeral\u001b[0m\u001b[0;34m:\u001b[0m\u001b[0;34m\u001b[0m\u001b[0;34m\u001b[0m\u001b[0m\n\u001b[0;32m--> 132\u001b[0;31m     _message.blocking_request(\n\u001b[0m\u001b[1;32m    133\u001b[0m         \u001b[0;34m'request_auth'\u001b[0m\u001b[0;34m,\u001b[0m \u001b[0mrequest\u001b[0m\u001b[0;34m=\u001b[0m\u001b[0;34m{\u001b[0m\u001b[0;34m'authType'\u001b[0m\u001b[0;34m:\u001b[0m \u001b[0;34m'dfs_ephemeral'\u001b[0m\u001b[0;34m}\u001b[0m\u001b[0;34m,\u001b[0m \u001b[0mtimeout_sec\u001b[0m\u001b[0;34m=\u001b[0m\u001b[0;32mNone\u001b[0m\u001b[0;34m\u001b[0m\u001b[0;34m\u001b[0m\u001b[0m\n\u001b[1;32m    134\u001b[0m     )\n",
            "\u001b[0;32m/usr/local/lib/python3.10/dist-packages/google/colab/_message.py\u001b[0m in \u001b[0;36mblocking_request\u001b[0;34m(request_type, request, timeout_sec, parent)\u001b[0m\n\u001b[1;32m    174\u001b[0m       \u001b[0mrequest_type\u001b[0m\u001b[0;34m,\u001b[0m \u001b[0mrequest\u001b[0m\u001b[0;34m,\u001b[0m \u001b[0mparent\u001b[0m\u001b[0;34m=\u001b[0m\u001b[0mparent\u001b[0m\u001b[0;34m,\u001b[0m \u001b[0mexpect_reply\u001b[0m\u001b[0;34m=\u001b[0m\u001b[0;32mTrue\u001b[0m\u001b[0;34m\u001b[0m\u001b[0;34m\u001b[0m\u001b[0m\n\u001b[1;32m    175\u001b[0m   )\n\u001b[0;32m--> 176\u001b[0;31m   \u001b[0;32mreturn\u001b[0m \u001b[0mread_reply_from_input\u001b[0m\u001b[0;34m(\u001b[0m\u001b[0mrequest_id\u001b[0m\u001b[0;34m,\u001b[0m \u001b[0mtimeout_sec\u001b[0m\u001b[0;34m)\u001b[0m\u001b[0;34m\u001b[0m\u001b[0;34m\u001b[0m\u001b[0m\n\u001b[0m",
            "\u001b[0;32m/usr/local/lib/python3.10/dist-packages/google/colab/_message.py\u001b[0m in \u001b[0;36mread_reply_from_input\u001b[0;34m(message_id, timeout_sec)\u001b[0m\n\u001b[1;32m     94\u001b[0m     \u001b[0mreply\u001b[0m \u001b[0;34m=\u001b[0m \u001b[0m_read_next_input_message\u001b[0m\u001b[0;34m(\u001b[0m\u001b[0;34m)\u001b[0m\u001b[0;34m\u001b[0m\u001b[0;34m\u001b[0m\u001b[0m\n\u001b[1;32m     95\u001b[0m     \u001b[0;32mif\u001b[0m \u001b[0mreply\u001b[0m \u001b[0;34m==\u001b[0m \u001b[0m_NOT_READY\u001b[0m \u001b[0;32mor\u001b[0m \u001b[0;32mnot\u001b[0m \u001b[0misinstance\u001b[0m\u001b[0;34m(\u001b[0m\u001b[0mreply\u001b[0m\u001b[0;34m,\u001b[0m \u001b[0mdict\u001b[0m\u001b[0;34m)\u001b[0m\u001b[0;34m:\u001b[0m\u001b[0;34m\u001b[0m\u001b[0;34m\u001b[0m\u001b[0m\n\u001b[0;32m---> 96\u001b[0;31m       \u001b[0mtime\u001b[0m\u001b[0;34m.\u001b[0m\u001b[0msleep\u001b[0m\u001b[0;34m(\u001b[0m\u001b[0;36m0.025\u001b[0m\u001b[0;34m)\u001b[0m\u001b[0;34m\u001b[0m\u001b[0;34m\u001b[0m\u001b[0m\n\u001b[0m\u001b[1;32m     97\u001b[0m       \u001b[0;32mcontinue\u001b[0m\u001b[0;34m\u001b[0m\u001b[0;34m\u001b[0m\u001b[0m\n\u001b[1;32m     98\u001b[0m     if (\n",
            "\u001b[0;31mKeyboardInterrupt\u001b[0m: "
          ]
        }
      ]
    },
    {
      "cell_type": "code",
      "source": [
        "!pip install --user geopandas\n",
        "!pip install --user shapely\n",
        "!pip install pyspark"
      ],
      "metadata": {
        "colab": {
          "base_uri": "https://localhost:8080/"
        },
        "id": "SEg7qbH3xMWd",
        "outputId": "91d53384-624f-4ecd-98ea-0bfd4ef43a21"
      },
      "execution_count": null,
      "outputs": [
        {
          "output_type": "stream",
          "name": "stdout",
          "text": [
            "Requirement already satisfied: geopandas in /usr/local/lib/python3.10/dist-packages (0.13.2)\n",
            "Requirement already satisfied: fiona>=1.8.19 in /usr/local/lib/python3.10/dist-packages (from geopandas) (1.9.5)\n",
            "Requirement already satisfied: packaging in /usr/local/lib/python3.10/dist-packages (from geopandas) (23.2)\n",
            "Requirement already satisfied: pandas>=1.1.0 in /usr/local/lib/python3.10/dist-packages (from geopandas) (1.5.3)\n",
            "Requirement already satisfied: pyproj>=3.0.1 in /usr/local/lib/python3.10/dist-packages (from geopandas) (3.6.1)\n",
            "Requirement already satisfied: shapely>=1.7.1 in /usr/local/lib/python3.10/dist-packages (from geopandas) (2.0.2)\n",
            "Requirement already satisfied: attrs>=19.2.0 in /usr/local/lib/python3.10/dist-packages (from fiona>=1.8.19->geopandas) (23.1.0)\n",
            "Requirement already satisfied: certifi in /usr/local/lib/python3.10/dist-packages (from fiona>=1.8.19->geopandas) (2023.7.22)\n",
            "Requirement already satisfied: click~=8.0 in /usr/local/lib/python3.10/dist-packages (from fiona>=1.8.19->geopandas) (8.1.7)\n",
            "Requirement already satisfied: click-plugins>=1.0 in /usr/local/lib/python3.10/dist-packages (from fiona>=1.8.19->geopandas) (1.1.1)\n",
            "Requirement already satisfied: cligj>=0.5 in /usr/local/lib/python3.10/dist-packages (from fiona>=1.8.19->geopandas) (0.7.2)\n",
            "Requirement already satisfied: six in /usr/local/lib/python3.10/dist-packages (from fiona>=1.8.19->geopandas) (1.16.0)\n",
            "Requirement already satisfied: setuptools in /usr/local/lib/python3.10/dist-packages (from fiona>=1.8.19->geopandas) (67.7.2)\n",
            "Requirement already satisfied: python-dateutil>=2.8.1 in /usr/local/lib/python3.10/dist-packages (from pandas>=1.1.0->geopandas) (2.8.2)\n",
            "Requirement already satisfied: pytz>=2020.1 in /usr/local/lib/python3.10/dist-packages (from pandas>=1.1.0->geopandas) (2023.3.post1)\n",
            "Requirement already satisfied: numpy>=1.21.0 in /usr/local/lib/python3.10/dist-packages (from pandas>=1.1.0->geopandas) (1.23.5)\n",
            "Requirement already satisfied: shapely in /usr/local/lib/python3.10/dist-packages (2.0.2)\n",
            "Requirement already satisfied: numpy>=1.14 in /usr/local/lib/python3.10/dist-packages (from shapely) (1.23.5)\n",
            "Collecting pyspark\n",
            "  Downloading pyspark-3.5.0.tar.gz (316.9 MB)\n",
            "\u001b[2K     \u001b[90m━━━━━━━━━━━━━━━━━━━━━━━━━━━━━━━━━━━━━━━━\u001b[0m \u001b[32m316.9/316.9 MB\u001b[0m \u001b[31m4.1 MB/s\u001b[0m eta \u001b[36m0:00:00\u001b[0m\n",
            "\u001b[?25h  Preparing metadata (setup.py) ... \u001b[?25l\u001b[?25hdone\n",
            "Requirement already satisfied: py4j==0.10.9.7 in /usr/local/lib/python3.10/dist-packages (from pyspark) (0.10.9.7)\n",
            "Building wheels for collected packages: pyspark\n",
            "  Building wheel for pyspark (setup.py) ... \u001b[?25l\u001b[?25hdone\n",
            "  Created wheel for pyspark: filename=pyspark-3.5.0-py2.py3-none-any.whl size=317425344 sha256=6f65734044dc18e9eb2944e42e15ff9542efea41be264f25e15ac8ab2f71d6f1\n",
            "  Stored in directory: /root/.cache/pip/wheels/41/4e/10/c2cf2467f71c678cfc8a6b9ac9241e5e44a01940da8fbb17fc\n",
            "Successfully built pyspark\n",
            "Installing collected packages: pyspark\n",
            "Successfully installed pyspark-3.5.0\n"
          ]
        }
      ]
    },
    {
      "cell_type": "code",
      "source": [
        "from pyspark.sql import SparkSession\n",
        "spark = SparkSession.builder\\\n",
        "        .master(\"local\")\\\n",
        "        .appName(\"Colab\")\\\n",
        "        .config('spark.ui.port', '4050')\\\n",
        "        .getOrCreate()"
      ],
      "metadata": {
        "id": "OtWU2BJZxtvn"
      },
      "execution_count": null,
      "outputs": []
    },
    {
      "cell_type": "code",
      "source": [
        "df = spark.read.csv('/content/Infrastruktur/Stadtteilprofile2023.csv', header=True)"
      ],
      "metadata": {
        "id": "IhWuHr3ey3dn"
      },
      "execution_count": null,
      "outputs": []
    },
    {
      "cell_type": "code",
      "source": [
        "df.show()"
      ],
      "metadata": {
        "colab": {
          "base_uri": "https://localhost:8080/"
        },
        "id": "hzoMzW3oFnDx",
        "outputId": "343efad8-cf64-47ba-a68d-c35cd11c5020"
      },
      "execution_count": null,
      "outputs": [
        {
          "output_type": "stream",
          "name": "stdout",
          "text": [
            "+--------------------+------------------------------------+--------------------+--------------------+--------------------+--------------------+--------------------+--------------------+--------------------+--------------------+--------------------+--------------------+--------------------+--------------------+--------------------+--------------------+--------------------+--------------------+--------------------+--------------------+-------------+--------------------+-------------------------+--------------------+--------------------+--------------------+--------------------+--------------------+--------------------+--------------------+--------------------+--------------------+--------------------+--------------------+--------------------+--------------------+--------------------+--------------------+--------------------+--------------------+--------------------+--------------------+--------------------+--------------------+--------------------+--------------------+--------------------+--------------------+--------------------+--------------------+--------------------+--------------------+--------------------+--------------------+--------------------+--------------------+-------------------------+--------------------+--------------------+--------------------+--------------------+--------------------+--------------------+--------------------+--------------------+--------------------+--------------------+--------------------+----+\n",
            "|         Stadtgebiet|Bevölkerung und Haushalte 31.12.2022|                 _c2|                 _c3|                 _c4|                 _c5|                 _c6|                 _c7|                 _c8|                 _c9|                _c10|                _c11|                _c12|                _c13|                _c14|                _c15|                _c16|                _c17|                _c18|                _c19|         _c20|                _c21|Bevölkerungsbewegung 2022|                _c23|                _c24|                _c25|                _c26|      Sozialstruktur|                _c28|                _c29|                _c30|                _c31|                _c32|                _c33|                _c34|                _c35|                _c36|                _c37|                _c38|                _c39|                _c40|                _c41|              Wohnen|                _c43|                _c44|                _c45|                _c46|                _c47|                _c48|                _c49|                _c50|                _c51|                _c52|                _c53|                _c54|                _c55|Infrastruktur und Verkehr|                _c57|                _c58|                _c59|                _c60|                _c61|                _c62|                _c63|                _c64|                _c65|                _c66|                _c67|_c68|\n",
            "+--------------------+------------------------------------+--------------------+--------------------+--------------------+--------------------+--------------------+--------------------+--------------------+--------------------+--------------------+--------------------+--------------------+--------------------+--------------------+--------------------+--------------------+--------------------+--------------------+--------------------+-------------+--------------------+-------------------------+--------------------+--------------------+--------------------+--------------------+--------------------+--------------------+--------------------+--------------------+--------------------+--------------------+--------------------+--------------------+--------------------+--------------------+--------------------+--------------------+--------------------+--------------------+--------------------+--------------------+--------------------+--------------------+--------------------+--------------------+--------------------+--------------------+--------------------+--------------------+--------------------+--------------------+--------------------+--------------------+--------------------+-------------------------+--------------------+--------------------+--------------------+--------------------+--------------------+--------------------+--------------------+--------------------+--------------------+--------------------+--------------------+----+\n",
            "|                NULL|                         Bevölkerung|    Unter 18-Jährige|Anteil der unter ...| 65-Jährige und Ä...|Anteil der 65-Jäh...|    Ausländer: innen|Anteil der Auslän...|Bevölkerung mit M...|Anteil der Bevölk...|Unter 18-Jährige ...|Anteil der unter ...|           Haushalte|Personen je Haushalt|Einpersonen-haush...|Anteil der Einper...|Haushalte mit Kin...|Anteil der Hausha...|   Allein-erziehende|Anteil der Hausha...|Fläche in km²| Bevölkerungs-dichte|                 Geburten|         Sterbefälle|              Zuzüge|            Fortzüge|    Wanderungs-saldo|Sozialver-sicheru...|Beschäftigten-quo...|Arbeitslose (Dez ...|Arbeitslosen-ante...|Jüngere Arbeitslo...|Arbeitslosen-ante...|Ältere Arbeitslos...|Arbeitslosen-ante...|Leistungs-empfäng...|Anteil der Leistu...|Unter 15-Jährige ...|Anteil der unter ...|Bedarfs-gemein-sc...|Empfänger:innen v...|in % der 65-Jähri...| Wohn-gebäude (2022)|    Wohnungen (2022)|Bezugsfertige Woh...|Wohnungen in Ein-...|Anteil der Wohnun...|Wohnungs-größe in...|Wohnfläche je Ein...|Sozial-wohnungen ...|Sozial-wohnungs-a...|Sozial-wohnungen ...|Sozial-wohnungen ...|Preise für Grunds...|Preise für Ein- b...|Preise für Eigent...|     Kindergärten und ...|Grundschulen (202...|Schüler:innen der...|Anteil der Schüle...|Anteil der Schüle...|Nieder-gelassene ...|Allgemein-ärztinn...|Zahn-ärztinnen/-ä...|Apotheken (Dez 2022)|Private PKW (Jan ...|PKW-Dichte (Jan 2...|Elektro-PKW  (Jan...|NULL|\n",
            "|                NULL|                Anzahl der Einwoh...|Anzahl der Kinder...|Anteil Kinder und...|Anzahl älterer Ei...|Anteil älterer Ei...|Anzahl ausländisc...|Anteil ausländisc...|Anzahl der Einwoh...|Anteil der Einwoh...|Anzahl der Kinder...|Anteil Kinder und...|Anzahl der Haushalte|Durch-schnittlich...|Anzahl der Einper...|Anteil der Hausha...|Anzahl der Hausha...|Anteil der Hausha...|Anzahl der Hausha...|Anteil der Hausha...|Fläche in km²|Einwohner: innen ...|     Anzahl der Lebend...|Anzahl der Sterbe...|Zuzüge über die S...|Fortzüge über die...|Differenz der Zuz...|Sozial-versicheru...|Anteil sozial-ver...|Anzahl der Arbeit...|Anteil der Arbeit...|Jüngere Arbeitslo...|Anteil jüngerer A...|Ältere Arbeitslos...|Anteil älterer Ar...|Anzahl der Leistu...|Anteil der Leistu...|Anzahl der Leistu...|Anteil der Leistu...|Anzahl der Bedarf...|Empfänger:innen v...|in % der 65-Jähri...|Anzahl der Wohnge...|Anzahl der Wohnungen|Anzahl der bezugs...|Anzahl der Wohnun...|Anteil der Wohnun...|Durch-schnittlich...|Durch-schnittlich...|Anzahl der Sozial...|Anteil der Sozial...|Anzahl der Sozial...|Anteil der Sozial...|Durch-schnittlich...|Durch-schnittlich...|Durch-schnittlich...|     Kindergärten und ...|Anzahl der Grunds...|Anzahl der Schüle...|Anteil der Schüle...|Anteil der Schüle...|Anzahl der nieder...|Anzahl der Allgem...|Anzahl der Zahn-ä...|Anzahl der Apotheken| Anzahl privater PKW|Anzahl der privat...|  Anzahl Elektro-PKW|NULL|\n",
            "|    Hamburg-Altstadt|                       0 003 182    |       0 000 515    |           000 016.2|       0 000 316    |           000 009.9|       0 001 349    |           000 042.4|       0 001 896    |           000 059.5|       0 000 424    |       820 000.0    |       0 001 884    |                 1.7|       0 001 057    |           000 056.1|       0 000 255    |           000 013.5|       0 000 069    |           000 027.1|          1.3|             002 447|            0 000 030    |       0 000 016    |       0 001 542    |       0 000 639    |\"+\"\"* ?\"\" \"\"#\"\" \"...|       0 001 346    |           000 055.6|       0 000 324    |           000 013.4|       0 000 035    |           000 010.9|       0 000 065    |           000 018.4|       0 000 836    |           000 026.3|       0 000 214    |           000 048.3|       0 000 449    |       0 000 046    |           000 014.6|       0 000 103    |       0 001 487    |       0 000 063    |       0 000 017    |           000 001.1|           000 074.1|           000 034.6|       0 000 176    |           000 011.8|       0 000 025    |           000 014.2|       0 002 366    |               .    |       0 004 869    |            0 000 001    |\"-\"\"\"\" \"\"\"\" \"\"\"\" ...|       0 000 127    |       520 000.0    |           000 045.7|       0 000 231    |       0 000 048    |       0 000 075    |       0 000 010    |       0 000 599    |       0 000 188    |       0 000 677    |NULL|\n",
            "|           HafenCity|                       0 006 950    |       0 001 386    |           000 019.9|       0 000 644    |           000 009.3|       0 000 978    |           000 014.1|       0 002 758    |           000 039.8|       0 000 769    |           000 056.1|       0 003 183    |                 2.2|       0 001 126    |           000 035.4|       0 000 841    |           000 026.4|       0 000 119    |           000 014.1|          2.4|             002 865|            0 000 111    |       0 000 022    |       0 001 702    |       0 000 808    |\"+\"\"* ?\"\" \"\"#\"\" \"...|       0 003 087    |           000 061.6|       0 000 147    |           000 002.9|       0 000 011    |           000 001.8|       0 000 017    |           000 002.9|       0 000 344    |           000 004.9|       0 000 121    |           000 009.4|       0 000 163    |       0 000 028    |           000 004.3|       0 000 141    |       0 003 898    |       0 000 687    |       0 000 005    |           000 000.1|           000 081.4|           000 045.7|       0 001 074    |           000 027.6|       0 000 009    |           000 000.8|       0 003 031    |               .    |       0 010 746    |            0 000 005    |       0 000 002    |       0 000 221    |           000 032.1|           000 064.7|       0 000 016    |       0 000 006    |       0 000 006    |       0 000 001    |       0 001 809    |       0 000 260    |       0 000 371    |NULL|\n",
            "|            Neustadt|                       0 012 649    |       0 001 412    |           000 011.2|       0 001 919    |           000 015.2|       0 002 581    |           000 020.4|       0 004 724    |           000 037.4|       0 000 673    |           000 047.8|       0 008 683    |                 1.5|       0 005 994    |       690 000.0    |       0 000 954    |       110 000.0    |       0 000 286    |       300 000.0    |          2.3|             005 592|            0 000 104    |       0 000 085    |       0 002 104    |       0 001 617    |\"+\"\"* ?\"\" \"\"#\"\" \"...|       0 006 350    |           000 066.9|       0 000 493    |           000 005.2|       0 000 021    |           000 002.2|       0 000 113    |           000 006.7|       0 000 864    |           000 006.8|       0 000 132    |           000 010.7|       0 000 609    |       0 000 318    |           000 016.6|       0 000 652    |       0 007 700    |       0 000 050    |       0 000 070    |           000 000.9|           000 063.1|           000 038.4|       0 000 992    |           000 012.9|       0 000 143    |           000 014.4|       0 002 304    |               .    |       0 008 240    |            0 000 012    |       0 000 001    |       0 000 340    |           000 039.7|           000 056.5|       0 000 205    |       0 000 020    |       0 000 083    |       0 000 008    |       0 003 064    |       0 000 242    |       0 000 754    |NULL|\n",
            "|           St. Pauli|                       0 022 056    |       0 002 941    |           000 013.3|       0 002 270    |           000 010.3|       0 004 991    |           000 022.6|       0 008 488    |           000 038.4|       0 001 458    |           000 049.4|       0 014 772    |                 1.5|       0 010 184    |           000 068.9|       0 001 898    |           000 012.8|       0 000 665    |       350 000.0    |          2.2|             009 836|            0 000 177    |       0 000 162    |       0 003 650    |       0 002 649    |\"+\"\"* ?\"\" \"\"#\"\" \"...|       0 009 903    |           000 057.2|       0 001 535    |           000 008.9|       0 000 087    |           000 004.4|       0 000 312    |       110 000.0    |       0 003 253    |           000 014.7|       0 000 705    |           000 028.6|       0 002 012    |       0 000 545    |       240 000.0    |       0 001 293    |       0 012 667    |       0 000 007    |       0 000 173    |           000 001.4|           000 064.2|           000 036.9|       0 001 522    |       120 000.0    |       0 000 300    |           000 019.7|       0 001 998    |               .    |       0 007 716    |            0 000 017    |       0 000 001    |       0 000 907    |           000 049.6|           000 046.2|       0 000 044    |       0 000 012    |       0 000 015    |       0 000 006    |       0 004 453    |       0 000 202    |       0 000 219    |NULL|\n",
            "|           St. Georg|                       0 012 318    |       0 001 420    |           000 011.5|       0 001 676    |           000 013.6|       0 003 494    |           000 028.4|       0 005 362    |           000 043.7|       0 000 866    |           000 061.7|       0 007 720    |                 1.6|       0 005 043    |           000 065.3|       0 000 862    |           000 011.2|       0 000 219    |           000 025.4|          1.8|             006 758|            0 000 120    |       0 000 103    |       0 003 513    |       0 002 022    |\"+\"\"* ?\"\" \"\"#\"\" \"...|       0 005 424    |           000 057.6|       0 000 659    |       070 000.0    |       0 000 054    |           000 004.3|       0 000 119    |           000 007.4|       0 001 394    |           000 011.3|       0 000 282    |           000 022.9|       0 000 861    |       0 000 291    |           000 017.4|       0 000 561    |       0 006 444    |       0 000 004    |       0 000 063    |       010 000.0    |           000 071.1|           000 037.2|       0 000 764    |           000 011.9|       0 000 151    |           000 019.8|       0 001 996    |               .    |       0 007 961    |            0 000 009    |       0 000 001    |       0 000 356    |           000 038.2|           000 060.7|       0 000 089    |       0 000 036    |       0 000 017    |       0 000 007    |       0 002 418    |       0 000 196    |       0 000 163    |NULL|\n",
            "|         Hammerbrook|                       0 005 990    |       0 000 772    |           000 012.9|       0 000 192    |           000 003.2|       0 002 256    |           000 037.7|       0 003 427    |       580 000.0    |       0 000 636    |           000 085.5|       0 003 016    |                 1.8|       0 001 580    |           000 052.4|       0 000 428    |           000 014.2|       0 000 106    |           000 024.8|          2.5|             002 400|            0 000 074    |       0 000 009    |       0 002 652    |       0 001 296    |\"+\"\"* ?\"\" \"\"#\"\" \"...|       0 003 157    |           000 061.8|       0 000 397    |           000 007.8|       0 000 039    |           000 003.6|       0 000 047    |           000 015.6|       0 000 939    |           000 015.7|       0 000 270    |       390 000.0    |       0 000 523    |       0 000 064    |           000 033.3|       0 000 111    |       0 003 004    |       0 000 355    |       0 000 007    |           000 000.2|           000 055.9|       280 000.0    |       0 000 783    |           000 026.1|\"-\"\"\"\" \"\"\"\" \"\"\"\" ...|\"-\"\"\"\" \"\"\"\" \"\"\"\" ...|       0 000 918    |               .    |       0 006 702    |            0 000 006    |\"-\"\"\"\" \"\"\"\" \"\"\"\" ...|       0 000 144    |           000 063.2|           000 031.3|       0 000 001    |\"-\"\"\"\" \"\"\"\" \"\"\"\" ...|       0 000 007    |\"-\"\"\"\" \"\"\"\" \"\"\"\" ...|       0 000 890    |       0 000 149    |       0 001 642    |NULL|\n",
            "|           Borgfelde|                       0 008 569    |       0 001 160    |           000 013.5|       0 000 922    |           000 010.8|       0 003 273    |           000 038.2|       0 004 600    |           000 053.7|       0 000 900    |           000 078.4|       0 004 413    |                 1.5|       0 002 943    |           000 066.7|       0 000 482    |           000 010.9|       0 000 125    |           000 025.9|          0.8|             010 426|            0 000 098    |       0 000 051    |       0 002 250    |       0 001 600    |\"+\"\"* ?\"\" \"\"#\"\" \"...|       0 003 882    |           000 058.5|       0 000 466    |       070 000.0    |       0 000 040    |       030 000.0    |       0 000 075    |           000 009.8|       0 001 409    |           000 016.4|       0 000 440    |           000 043.5|       0 000 667    |       0 000 147    |           000 015.9|       0 000 393    |       0 004 458    |       0 000 058    |       0 000 047    |           000 001.1|           000 056.1|           000 029.2|       0 000 338    |           000 007.6|\"-\"\"\"\" \"\"\"\" \"\"\"\" ...|\"-\"\"\"\" \"\"\"\" \"\"\"\" ...|       0 001 021    |               .    |       0 005 952    |            0 000 003    |\"-\"\"\"\" \"\"\"\" \"\"\"\" ...|       0 000 306    |           000 062.4|           000 031.7|       0 000 003    |       0 000 002    |       0 000 004    |       0 000 001    |       0 001 678    |       0 000 196    |       0 000 065    |NULL|\n",
            "|                Hamm|                       0 038 720    |       0 004 645    |       120 000.0    |       0 005 139    |           000 013.3|       0 008 261    |           000 021.3|       0 015 518    |           000 040.1|       0 002 983    |           000 064.6|       0 026 038    |                 1.5|       0 017 738    |           000 068.1|       0 002 955    |           000 011.3|       0 000 959    |           000 032.5|          3.9|             009 957|            0 000 405    |       0 000 331    |       0 006 894    |       0 004 840    |\"+\"\"* ?\"\" \"\"#\"\" \"...|       0 020 192    |           000 068.3|       0 001 735    |           000 005.9|       0 000 135    |           000 003.4|       0 000 292    |           000 006.7|       0 004 008    |           000 010.4|       0 000 970    |           000 024.1|       0 002 368    |       0 000 669    |       130 000.0    |       0 002 331    |       0 023 629    |       0 000 036    |       0 000 261    |           000 001.1|           000 058.8|           000 035.9|       0 001 324    |           000 005.6|       0 000 393    |           000 029.7|       0 000 859    |       0 003 148    |       0 005 466    |            0 000 016    |       0 000 002    |       0 001 205    |           000 057.5|           000 038.8|       0 000 020    |       0 000 005    |       0 000 027    |       0 000 007    |       0 009 906    |       0 000 256    |       0 000 152    |NULL|\n",
            "|                Horn|                       0 038 425    |       0 006 210    |           000 016.2|       0 005 709    |           000 014.9|       0 011 249    |           000 029.3|       0 021 726    |           000 056.4|       0 004 802    |           000 077.4|       0 022 621    |                 1.7|       0 013 437    |           000 059.4|       0 003 684    |           000 016.3|       0 001 262    |           000 034.3|          5.9|             006 515|            0 000 396    |       0 000 382    |       0 006 303    |       0 004 225    |\"+\"\"* ?\"\" \"\"#\"\" \"...|       0 016 617    |           000 060.5|       0 002 055    |           000 007.5|       0 000 147    |       030 000.0    |       0 000 402    |           000 008.7|       0 005 953    |           000 015.5|       0 001 682    |           000 032.1|       0 003 100    |       0 000 914    |       160 000.0    |       0 002 819    |       0 019 813    |       0 000 247    |       0 001 020    |           000 005.1|           000 061.3|           000 031.6|       0 002 304    |           000 011.6|       0 000 430    |           000 018.7|       0 000 717    |       0 004 622    |       0 004 127    |            0 000 014    |       0 000 005    |       0 001 858    |           000 066.1|           000 030.5|       0 000 042    |       0 000 025    |       0 000 014    |       0 000 005    |       0 010 027    |       0 000 261    |       0 000 073    |NULL|\n",
            "|           Billstedt|                       0 071 789    |       0 014 019    |           000 019.5|       0 013 092    |           000 018.2|       0 021 117    |           000 029.4|       0 045 035    |           000 062.7|       0 011 222    |           000 080.3|       0 035 656    |                 2.0|       0 017 105    |       480 000.0    |       0 007 591    |           000 021.3|       0 002 437    |           000 032.1|         16.9|             004 242|            0 000 705    |       0 000 739    |       0 007 847    |       0 005 517    |\"+\"\"* ?\"\" \"\"#\"\" \"...|       0 027 017    |           000 057.4|       0 004 074    |           000 008.7|       0 000 385    |           000 004.5|       0 000 679    |           000 007.2|       0 013 571    |           000 018.9|       0 004 119    |           000 035.4|       0 006 339    |       0 002 067    |           000 015.8|       0 008 166    |       0 032 358    |       0 000 279    |       0 006 428    |           000 019.9|           000 072.7|           000 032.8|       0 005 117    |           000 015.8|       0 003 151    |           000 061.6|       0 000 712    |       0 004 621    |       0 004 089    |            0 000 027    |       0 000 008    |       0 004 633    |           000 069.9|           000 026.6|       0 000 095    |       0 000 048    |       0 000 035    |       0 000 010    |       0 022 344    |       0 000 311    |       0 000 254    |NULL|\n",
            "|           Billbrook|                       0 001 791    |       0 000 602    |           000 033.6|       0 000 094    |           000 005.2|       0 001 416    |           000 079.1|       0 001 596    |           000 087.5|       0 000 583    |           000 098.5|       0 000 545    |                 2.0|       0 000 292    |           000 053.6|       0 000 111    |           000 020.4|       0 000 035    |           000 031.5|          6.3|             000 285|            0 000 025    |       0 000 007    |       0 000 873    |       0 000 741    |\"+\"\"* ?\"\" \"\"#\"\" \"...|       0 000 636    |           000 053.4|       0 000 221    |           000 018.5|       0 000 027    |           000 009.3|       0 000 024    |           000 017.9|       0 001 047    |           000 058.5|       0 000 407    |           000 080.6|       0 000 380    |       0 000 024    |           000 025.5|       0 000 083    |       0 000 284    |\"-\"\"\"\" \"\"\"\" \"\"\"\" ...|       0 000 072    |           000 025.4|           000 065.8|           000 010.4|\"-\"\"\"\" \"\"\"\" \"\"\"\" ...|\"-\"\"\"\" \"\"\"\" \"\"\"\" ...|\"-\"\"\"\" \"\"\"\" \"\"\"\" ...|\"-\"\"\"\" \"\"\"\" \"\"\"\" ...|       0 000 456    |               .    |               .    |            0 000 001    |\"-\"\"\"\" \"\"\"\" \"\"\"\" ...|       0 000 217    |           000 082.9|           000 010.1|\"-\"\"\"\" \"\"\"\" \"\"\"\" ...|\"-\"\"\"\" \"\"\"\" \"\"\"\" ...|\"-\"\"\"\" \"\"\"\" \"\"\"\" ...|\"-\"\"\"\" \"\"\"\" \"\"\"\" ...|       0 000 258    |       0 000 144    |       0 000 105    |NULL|\n",
            "|      Rothenburgsort|                       0 009 641    |       0 001 773    |           000 018.4|       0 001 362    |           000 014.1|       0 003 363    |           000 034.9|       0 005 982    |       620 000.0    |       0 001 461    |           000 082.6|       0 005 276    |                 1.8|       0 002 992    |           000 056.7|       0 000 967    |           000 018.3|       0 000 330    |           000 034.1|          7.2|             001 341|            0 000 095    |       0 000 128    |       0 002 057    |       0 001 030    |\"+\"\"* ?\"\" \"\"#\"\" \"...|       0 003 807    |       560 000.0    |       0 000 751    |       110 000.0    |       0 000 051    |           000 004.6|       0 000 125    |           000 010.6|       0 002 251    |           000 023.3|       0 000 609    |           000 041.1|       0 001 176    |       0 000 269    |           000 019.8|       0 000 535    |       0 004 595    |\"-\"\"\"\" \"\"\"\" \"\"\"\" ...|       0 000 138    |       030 000.0    |           000 062.6|           000 029.8|       0 000 916    |           000 019.9|       0 000 146    |           000 015.9|       0 000 585    |               .    |       0 004 451    |            0 000 004    |       0 000 001    |       0 000 513    |           000 068.6|           000 027.1|       0 000 006    |       0 000 005    |       0 000 006    |       0 000 002    |       0 002 317    |       0 000 240    |       0 000 178    |NULL|\n",
            "|              Veddel|                       0 004 288    |       0 000 853    |           000 019.9|       0 000 398    |           000 009.3|       0 002 026    |           000 047.2|       0 003 254    |           000 076.1|       0 000 779    |           000 092.7|       0 002 269    |                 1.9|       0 001 278    |           000 056.3|       0 000 469    |           000 020.7|       0 000 143    |           000 030.5|          4.4|             000 981|            0 000 045    |       0 000 014    |       0 000 554    |       0 000 429    |\"+\"\"* ?\"\" \"\"#\"\" \"...|       0 001 825    |           000 057.1|       0 000 337    |           000 010.5|       0 000 032    |           000 005.2|       0 000 044    |           000 011.5|       0 000 981    |           000 022.9|       0 000 294    |           000 042.4|       0 000 463    |       0 000 099    |           000 024.9|       0 000 210    |       0 002 025    |\"-\"\"\"\" \"\"\"\" \"\"\"\" ...|       0 000 014    |           000 000.7|           000 061.3|           000 028.9|       0 000 530    |           000 026.2|       0 000 315    |           000 059.4|       0 000 431    |               .    |               .    |            0 000 002    |       0 000 001    |       0 000 282    |           000 074.5|           000 020.9|       0 000 004    |       0 000 004    |       0 000 002    |       0 000 001    |       0 000 841    |       0 000 196    |       0 000 040    |NULL|\n",
            "|        Wilhelmsburg|                       0 052 961    |       0 010 902    |           000 020.6|       0 007 237    |           000 013.7|       0 017 374    |           000 032.8|       0 032 923    |           000 062.1|       0 008 470    |           000 077.9|       0 026 233    |                 2.0|       0 013 215    |           000 050.4|       0 005 882    |           000 022.4|       0 001 576    |           000 026.8|         35.4|             001 497|            0 000 601    |       0 000 557    |       0 005 136    |       0 003 874    |\"+\"\"* ?\"\" \"\"#\"\" \"...|       0 020 981    |           000 057.2|       0 003 305    |       090 000.0    |       0 000 264    |           000 004.1|       0 000 564    |           000 008.8|       0 009 591    |           000 018.1|       0 002 879    |           000 031.8|       0 004 457    |       0 000 982    |           000 013.6|       0 004 736    |       0 023 051    |       0 000 126    |       0 003 251    |           000 014.1|           000 069.8|           000 030.4|       0 004 886    |           000 021.2|       0 001 481    |           000 030.3|       0 000 450    |       0 004 670    |       0 004 792    |            0 000 026    |       0 000 007    |       0 003 436    |           000 067.5|           000 026.3|       0 000 060    |       0 000 035    |       0 000 020    |       0 000 009    |       0 014 014    |       0 000 265    |       0 000 277    |NULL|\n",
            "|Kleiner Grasbrook...|                       0 001 105    |       0 000 062    |           000 005.6|       0 000 057    |           000 005.2|       0 000 364    |           000 032.9|       0 000 512    |       460 000.0    |       0 000 057    |           000 090.5|       0 000 890    |                 1.3|       0 000 726    |           000 081.6|       0 000 039    |           000 004.4|       0 000 013    |                   x|         11.9|             000 093|            0 000 004    |       0 000 004    |       0 000 418    |       0 000 290    |\"+\"\"* ?\"\" \"\"#\"\" \"...|       0 000 577    |           000 058.1|               .    |               .    |                   .|                   .|               .    |               .    |       0 000 157    |           000 014.2|       0 000 026    |           000 047.3|       0 000 112    |       0 000 018    |           000 031.6|       0 000 070    |       0 000 735    |\"-\"\"\"\" \"\"\"\" \"\"\"\" ...|       0 000 002    |           000 000.3|           000 050.6|           000 033.6|\"-\"\"\"\" \"\"\"\" \"\"\"\" ...|\"-\"\"\"\" \"\"\"\" \"\"\"\" ...|\"-\"\"\"\" \"\"\"\" \"\"\"\" ...|\"-\"\"\"\" \"\"\"\" \"\"\"\" ...|               .    |               .    |               .    |     \"-\"\"\"\" \"\"\"\" \"\"\"\" ...|\"-\"\"\"\" \"\"\"\" \"\"\"\" ...|       0 000 020    |                   x|                   x|\"-\"\"\"\" \"\"\"\" \"\"\"\" ...|\"-\"\"\"\" \"\"\"\" \"\"\"\" ...|\"-\"\"\"\" \"\"\"\" \"\"\"\" ...|\"-\"\"\"\" \"\"\"\" \"\"\"\" ...|       0 000 144    |       0 000 130    |       0 000 100    |NULL|\n",
            "|Waltershof und Fi...|                       0 011 690    |       0 001 988    |       170 000.0    |       0 002 335    |       200 000.0    |       0 002 421    |           000 020.7|       0 004 080    |           000 034.9|       0 001 064    |           000 053.7|       0 006 313    |                 1.9|       0 003 272    |           000 051.8|       0 001 156    |           000 018.3|       0 000 312    |       270 000.0    |         29.4|             000 397|            0 000 102    |       0 000 140    |       0 001 145    |       0 000 752    |\"+\"\"* ?\"\" \"\"#\"\" \"...|       0 004 885    |           000 063.9|       0 000 455    |           000 005.9|       0 000 029    |           000 002.6|       0 000 092    |           000 004.9|       0 001 174    |       100 000.0    |       0 000 343    |           000 020.1|       0 000 608    |       0 000 119    |           000 005.1|       0 002 323    |       0 005 810    |       0 000 003    |       0 001 940    |           000 033.4|           000 075.8|           000 037.7|       0 000 575    |           000 009.9|       0 000 259    |       450 000.0    |               .    |               .    |               .    |            0 000 005    |       0 000 002    |       0 000 574    |           000 052.6|           000 042.5|       0 000 005    |       0 000 002    |       0 000 008    |       0 000 002    |       0 004 360    |       0 000 373    |       0 000 136    |NULL|\n",
            "|     Altona-Altstadt|                       0 029 661    |       0 004 532    |           000 015.3|       0 003 902    |           000 013.2|       0 006 287    |           000 021.2|       0 012 048    |           000 040.6|       0 002 497    |           000 055.2|       0 018 261    |                 1.6|       0 011 547    |           000 063.2|       0 002 840    |           000 015.6|       0 000 935    |           000 032.9|          2.7|             010 913|            0 000 282    |       0 000 248    |       0 004 447    |       0 003 144    |\"+\"\"* ?\"\" \"\"#\"\" \"...|       0 013 080    |           000 059.7|       0 001 571    |           000 007.2|       0 000 100    |           000 003.6|       0 000 353    |       090 000.0    |       0 003 562    |       120 000.0    |       0 000 849    |       220 000.0    |       0 002 125    |       0 000 643    |           000 016.5|       0 001 637    |       0 016 704    |       0 000 146    |       0 000 190    |           000 001.1|           000 063.5|           000 035.8|       0 002 003    |       120 000.0    |       0 000 508    |           000 025.4|       0 002 024    |               .    |       0 007 329    |            0 000 028    |       0 000 003    |       0 001 359    |           000 050.8|           000 044.2|       0 000 174    |       0 000 035    |       0 000 043    |       0 000 009    |       0 006 709    |       0 000 226    |       0 000 259    |NULL|\n",
            "|        Sternschanze|                       0 007 889    |       0 001 088    |           000 013.8|       0 000 821    |           000 010.4|       0 001 633    |           000 020.7|       0 002 971    |           000 037.6|       0 000 545    |           000 049.9|       0 005 212    |                 1.5|       0 003 543    |       680 000.0    |       0 000 711    |           000 013.6|       0 000 243    |           000 034.2|          0.5|             014 384|            0 000 076    |       0 000 112    |       0 001 559    |       0 001 182    |\"+\"\"* ?\"\" \"\"#\"\" \"...|       0 003 623    |       590 000.0    |       0 000 418    |           000 006.8|       0 000 026    |           000 003.4|       0 000 086    |           000 009.8|       0 000 823    |           000 010.4|       0 000 199    |           000 021.4|       0 000 496    |       0 000 140    |           000 017.1|       0 000 505    |       0 004 379    |       0 000 017    |       0 000 081    |           000 001.8|           000 068.3|           000 037.9|       0 000 401    |           000 009.2|       0 000 076    |       190 000.0    |       0 002 022    |               .    |       0 010 305    |            0 000 004    |       0 000 001    |       0 000 315    |           000 047.3|           000 046.3|       0 000 041    |       0 000 007    |       0 000 004    |       0 000 003    |       0 001 529    |       0 000 194    |       0 000 056    |NULL|\n",
            "+--------------------+------------------------------------+--------------------+--------------------+--------------------+--------------------+--------------------+--------------------+--------------------+--------------------+--------------------+--------------------+--------------------+--------------------+--------------------+--------------------+--------------------+--------------------+--------------------+--------------------+-------------+--------------------+-------------------------+--------------------+--------------------+--------------------+--------------------+--------------------+--------------------+--------------------+--------------------+--------------------+--------------------+--------------------+--------------------+--------------------+--------------------+--------------------+--------------------+--------------------+--------------------+--------------------+--------------------+--------------------+--------------------+--------------------+--------------------+--------------------+--------------------+--------------------+--------------------+--------------------+--------------------+--------------------+--------------------+--------------------+-------------------------+--------------------+--------------------+--------------------+--------------------+--------------------+--------------------+--------------------+--------------------+--------------------+--------------------+--------------------+----+\n",
            "only showing top 20 rows\n",
            "\n"
          ]
        }
      ]
    }
  ]
}